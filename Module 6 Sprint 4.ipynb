{
 "cells": [
  {
   "cell_type": "code",
   "execution_count": null,
   "metadata": {},
   "outputs": [],
   "source": [
    "import pymongo\n",
    "\n",
    "# Create a Mongo Database and name it Data Tracker.\n",
    "myclient = pymongo.MongoClient(\"mongodb://localhost:27017/\")\n",
    "mydb = myclient[\"datatracker\"]\n",
    "\n",
    "mycol = mydb[\"products\"]\n",
    "\n",
    "#Add Sprint 3 products to MongoDB\n",
    "mylist = [{\"name\":'Simba',\n",
    "          \"category\":'Chips',\n",
    "           \"stock_availability\":23,\n",
    "           \"selling_price\":33\n",
    "          },\n",
    "          {\"name\":'Lays',\n",
    "          \"category\":'Chips',\n",
    "           \"stock_availability\":45,\n",
    "           \"selling_price\":59\n",
    "          },\n",
    "          {\"name\":'Coke',\n",
    "          \"category\":'Cooldrinks',\n",
    "           \"stock_availability\":28,\n",
    "           \"selling_price\":100\n",
    "          },\n",
    "          {\"name\":'Fanta',\n",
    "          \"category\":'Cooldrinks',\n",
    "           \"stock_availability\":18,\n",
    "           \"selling_price\":99\n",
    "          },\n",
    "          {\"name\":'Chocolate',\n",
    "          \"category\":'Chocolate',\n",
    "           \"stock_availability\":58,\n",
    "           \"selling_price\":78\n",
    "          },\n",
    "          {\"name\":'Tex',\n",
    "          \"category\":'Chocolate',\n",
    "           \"stock_availability\":40,\n",
    "           \"selling_price\":88\n",
    "          },\n",
    "          {\"name\":'Pepper Steak',\n",
    "          \"category\":'Pies',\n",
    "           \"stock_availability\":25,\n",
    "           \"selling_price\":50\n",
    "          },\n",
    "          {\"name\":'Chicken',\n",
    "          \"category\":'Pies',\n",
    "           \"stock_availability\":78,\n",
    "           \"selling_price\":39\n",
    "          },\n",
    "          {\"name\":'Pear',\n",
    "          \"category\":'Fruits',\n",
    "           \"stock_availability\":39,\n",
    "           \"selling_price\":69\n",
    "          },\n",
    "          {\"name\":'Apple',\n",
    "          \"category\":'Fruits',\n",
    "           \"stock_availability\":4,\n",
    "           \"selling_price\":70\n",
    "          },\n",
    "          {\"name\":'Orange',\n",
    "          \"category\":'Fruits',\n",
    "           \"stock_availability\":11,\n",
    "           \"selling_price\":20\n",
    "          },\n",
    "          {\"name\":'Vanilla',\n",
    "          \"category\":'Cupcakes',\n",
    "           \"stock_availability\":40,\n",
    "           \"selling_price\":105\n",
    "          },\n",
    "          {\"name\":'Chocolate',\n",
    "          \"category\":'Cupcakes',\n",
    "           \"stock_availability\":18,\n",
    "           \"selling_price\":23\n",
    "          },\n",
    "          {\"name\":'Spinach',\n",
    "          \"category\":'Veggies',\n",
    "           \"stock_availability\":13,\n",
    "           \"selling_price\":70\n",
    "          },\n",
    "          {\"name\":'Cabbage',\n",
    "          \"category\":'Veggies',\n",
    "           \"stock_availability\":28,\n",
    "           \"selling_price\":40\n",
    "          },\n",
    "          {\"name\":'Chicken',\n",
    "          \"category\":'Meat',\n",
    "           \"stock_availability\":17,\n",
    "           \"selling_price\":150\n",
    "          },\n",
    "          {\"name\":'Beef',\n",
    "          \"category\":'Meat',\n",
    "           \"stock_availability\":38,\n",
    "           \"selling_price\":70\n",
    "          },\n",
    "          {\"name\":'Pork',\n",
    "          \"category\":'Meat',\n",
    "           \"stock_availability\":24,\n",
    "           \"selling_price\":998\n",
    "          },\n",
    "          {\"name\":'Corona',\n",
    "          \"category\":'Alcohol',\n",
    "           \"stock_availability\":49,\n",
    "           \"selling_price\":47\n",
    "          },\n",
    "          {\"name\":'Clipdrift',\n",
    "          \"category\":'Alcohol',\n",
    "           \"stock_availability\":20,\n",
    "           \"selling_price\":30\n",
    "          }\n",
    "         ]\n",
    "x = mycol.insert_many(mylist) #print(x.inserted_ids)"
   ]
  },
  {
   "cell_type": "code",
   "execution_count": 3,
   "metadata": {},
   "outputs": [
    {
     "ename": "NameError",
     "evalue": "name 'pymongo' is not defined",
     "output_type": "error",
     "traceback": [
      "\u001b[1;31m---------------------------------------------------------------------------\u001b[0m",
      "\u001b[1;31mNameError\u001b[0m                                 Traceback (most recent call last)",
      "\u001b[1;32m<ipython-input-3-a270a025f163>\u001b[0m in \u001b[0;36m<module>\u001b[1;34m\u001b[0m\n\u001b[0;32m      1\u001b[0m \u001b[1;31m# Create a collection for your top 3 products in MongoDB, insert multiple documents into your collection in question 3\u001b[0m\u001b[1;33m\u001b[0m\u001b[1;33m\u001b[0m\u001b[1;33m\u001b[0m\u001b[0m\n\u001b[1;32m----> 2\u001b[1;33m \u001b[0mmyclient\u001b[0m \u001b[1;33m=\u001b[0m \u001b[0mpymongo\u001b[0m\u001b[1;33m.\u001b[0m\u001b[0mMongoClient\u001b[0m\u001b[1;33m(\u001b[0m\u001b[1;34m\"mongodb://localhost:27017/\"\u001b[0m\u001b[1;33m)\u001b[0m\u001b[1;33m\u001b[0m\u001b[1;33m\u001b[0m\u001b[0m\n\u001b[0m\u001b[0;32m      3\u001b[0m \u001b[0mmydb\u001b[0m \u001b[1;33m=\u001b[0m \u001b[0mmyclient\u001b[0m\u001b[1;33m[\u001b[0m\u001b[1;34m\"datatracker\"\u001b[0m\u001b[1;33m]\u001b[0m\u001b[1;33m\u001b[0m\u001b[1;33m\u001b[0m\u001b[0m\n\u001b[0;32m      4\u001b[0m \u001b[1;33m\u001b[0m\u001b[0m\n\u001b[0;32m      5\u001b[0m \u001b[0mmycol\u001b[0m \u001b[1;33m=\u001b[0m \u001b[0mmydb\u001b[0m\u001b[1;33m[\u001b[0m\u001b[1;34m\"top_products\"\u001b[0m\u001b[1;33m]\u001b[0m\u001b[1;33m\u001b[0m\u001b[1;33m\u001b[0m\u001b[0m\n",
      "\u001b[1;31mNameError\u001b[0m: name 'pymongo' is not defined"
     ]
    }
   ],
   "source": [
    "# Create a collection for your top 3 products in MongoDB, insert multiple documents into your collection in question 3\n",
    "import py\n",
    "myclient = pymongo.MongoClient(\"mongodb://localhost:27017/\")\n",
    "mydb = myclient[\"datatracker\"]\n",
    "\n",
    "mycol = mydb[\"top_products\"]\n",
    "mylist2 = [{\"name\":'Simba',\n",
    "          \"category\":'Chips',\n",
    "           \"stock_availability\":23,\n",
    "           \"selling_price\":33\n",
    "          },\n",
    "          {\"name\":'Coke',\n",
    "          \"category\":'Cooldrinks',\n",
    "           \"stock_availability\":28,\n",
    "           \"selling_price\":100\n",
    "          },\n",
    "          {\"name\":'Chicken',\n",
    "          \"category\":'Meat',\n",
    "           \"stock_availability\":17,\n",
    "           \"selling_price\":150\n",
    "          }\n",
    "         ]\n",
    "x = mycol.insert_many(mylist2)\n",
    "print(x.inserted_ids)"
   ]
  },
  {
   "cell_type": "code",
   "execution_count": null,
   "metadata": {},
   "outputs": [],
   "source": [
    "mycol.delete_many({})"
   ]
  },
  {
   "cell_type": "code",
   "execution_count": null,
   "metadata": {},
   "outputs": [],
   "source": [
    "# Implement a descending sort to your data in MongoDB\n",
    "mydoc = mycol.find().sort(\"name\", -1)\n",
    "\n",
    "for x in mydoc:\n",
    "    print(x)"
   ]
  },
  {
   "cell_type": "code",
   "execution_count": null,
   "metadata": {},
   "outputs": [],
   "source": [
    "# Delete 2 brands from your collection of top 3 products.\n",
    "x = mycol.delete_many({'name': {'$regex': 'Simba|Chicken'}})\n",
    "print(f'{x.deleted_count} product(s) deleted.')"
   ]
  },
  {
   "cell_type": "code",
   "execution_count": 1,
   "metadata": {},
   "outputs": [
    {
     "ename": "NameError",
     "evalue": "name 'mycol' is not defined",
     "output_type": "error",
     "traceback": [
      "\u001b[1;31m---------------------------------------------------------------------------\u001b[0m",
      "\u001b[1;31mNameError\u001b[0m                                 Traceback (most recent call last)",
      "\u001b[1;32m<ipython-input-1-2e69930743ce>\u001b[0m in \u001b[0;36m<module>\u001b[1;34m\u001b[0m\n\u001b[0;32m      3\u001b[0m \u001b[0mnew_prod\u001b[0m \u001b[1;33m=\u001b[0m \u001b[1;33m{\u001b[0m\u001b[1;34m\"$set\"\u001b[0m\u001b[1;33m:\u001b[0m \u001b[1;33m{\u001b[0m\u001b[1;34m'name'\u001b[0m\u001b[1;33m:\u001b[0m \u001b[1;34m'Tomato'\u001b[0m\u001b[1;33m,\u001b[0m \u001b[1;34m'category'\u001b[0m\u001b[1;33m:\u001b[0m \u001b[1;34m'Veggies'\u001b[0m\u001b[1;33m}\u001b[0m\u001b[1;33m}\u001b[0m\u001b[1;33m\u001b[0m\u001b[1;33m\u001b[0m\u001b[0m\n\u001b[0;32m      4\u001b[0m \u001b[1;33m\u001b[0m\u001b[0m\n\u001b[1;32m----> 5\u001b[1;33m \u001b[0mupdate\u001b[0m \u001b[1;33m=\u001b[0m \u001b[0mmycol\u001b[0m\u001b[1;33m.\u001b[0m\u001b[0mupdate_one\u001b[0m\u001b[1;33m(\u001b[0m\u001b[0mprods\u001b[0m\u001b[1;33m,\u001b[0m \u001b[0mnew_prods\u001b[0m\u001b[1;33m)\u001b[0m\u001b[1;33m\u001b[0m\u001b[1;33m\u001b[0m\u001b[0m\n\u001b[0m\u001b[0;32m      6\u001b[0m \u001b[0mprint\u001b[0m\u001b[1;33m(\u001b[0m\u001b[1;34mf'{update.modified_count} product(s) updated.'\u001b[0m\u001b[1;33m)\u001b[0m\u001b[1;33m\u001b[0m\u001b[1;33m\u001b[0m\u001b[0m\n",
      "\u001b[1;31mNameError\u001b[0m: name 'mycol' is not defined"
     ]
    }
   ],
   "source": [
    "# Update 1 product and its brands from your collection you created in question (3).\n",
    "prods = {'name': 'Coke'}\n",
    "new_prod = {\"$set\": {'name': 'Tomato', 'category': 'Veggies'}}\n",
    "\n",
    "update = mycol.update_one(prods, new_prods) \n",
    "print(f'{update.modified_count} product(s) updated.')"
   ]
  },
  {
   "cell_type": "code",
   "execution_count": null,
   "metadata": {},
   "outputs": [],
   "source": [
    "x = mycol.find().sort('stock_availability').limit(5)\n",
    "\n",
    "for x in mycol:\n",
    "    print(x)"
   ]
  },
  {
   "cell_type": "code",
   "execution_count": null,
   "metadata": {},
   "outputs": [],
   "source": []
  }
 ],
 "metadata": {
  "kernelspec": {
   "display_name": "Python 3",
   "language": "python",
   "name": "python3"
  },
  "language_info": {
   "codemirror_mode": {
    "name": "ipython",
    "version": 3
   },
   "file_extension": ".py",
   "mimetype": "text/x-python",
   "name": "python",
   "nbconvert_exporter": "python",
   "pygments_lexer": "ipython3",
   "version": "3.7.6"
  }
 },
 "nbformat": 4,
 "nbformat_minor": 4
}
